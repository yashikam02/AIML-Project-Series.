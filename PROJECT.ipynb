{
  "nbformat": 4,
  "nbformat_minor": 0,
  "metadata": {
    "colab": {
      "provenance": []
    },
    "kernelspec": {
      "name": "python3",
      "display_name": "Python 3"
    },
    "language_info": {
      "name": "python"
    }
  },
  "cells": [
    {
      "cell_type": "code",
      "source": [
        "# Complete chatbot program\n",
        "previous_interactions = []\n",
        "\n",
        "def chatbot_greeting():\n",
        "    print(\"Chatbot: Hello! I'm here to help. How can I assist you today?\")\n",
        "\n",
        "def basic_responses_with_memory_and_error_handling(user_input):\n",
        "    responses = {\n",
        "        \"how are you?\": \"I'm just a chatbot, but I'm here to help!\",\n",
        "        \"what is your name?\": \"I'm ChatBot3000, your virtual assistant.\",\n",
        "        \"what can you do?\": \"I can answer your questions and provide information!\",\n",
        "        \"where are you from?\": \"I live in the cloud.\",\n",
        "        \"bye\": \"Goodbye! Have a great day!\"\n",
        "    }\n",
        "\n",
        "    previous_interactions.append(user_input)\n",
        "\n",
        "    if user_input.lower() == \"what did i ask earlier?\":\n",
        "        if previous_interactions:\n",
        "            return f\"You previously asked: {previous_interactions[:-1]}\"\n",
        "        else:\n",
        "            return \"You haven't asked me anything yet.\"\n",
        "\n",
        "    response = responses.get(user_input.lower())\n",
        "    if response is None:\n",
        "        return \"Oops! I didn't quite get that. Can you rephrase?\"\n",
        "\n",
        "    return response\n",
        "\n",
        "def ask_user_questions():\n",
        "    user_responses = {}\n",
        "    questions = [\"What's your name?\", \"How old are you?\", \"What is your favorite color?\"]\n",
        "    for question in questions:\n",
        "        print(f\"Chatbot: {question}\")\n",
        "        response = input(\"You: \")\n",
        "        user_responses[question] = response\n",
        "    return user_responses\n",
        "\n",
        "def react_to_responses(user_responses):\n",
        "    name = user_responses.get(\"What's your name?\", \"User\")\n",
        "    print(f\"Chatbot: Nice to meet you, {name}!\")\n",
        "\n",
        "    age = user_responses.get(\"How old are you?\", \"unknown\")\n",
        "    if age.isdigit():\n",
        "        print(f\"Chatbot: Wow, {age} years old! That's awesome.\")\n",
        "    else:\n",
        "        print(f\"Chatbot: Age is just a number!\")\n",
        "\n",
        "    favorite_color = user_responses.get(\"What is your favorite color?\", \"unknown\")\n",
        "    print(f\"Chatbot: {favorite_color} is a beautiful color!\")\n",
        "\n",
        "def farewell():\n",
        "    print(\"Chatbot: It was nice talking to you! Goodbye!\")\n",
        "\n",
        "def start_complete_chat():\n",
        "    chatbot_greeting()\n",
        "    user_responses = ask_user_questions()\n",
        "    react_to_responses(user_responses)\n",
        "\n",
        "    while True:\n",
        "        user_input = input(\"You: \")\n",
        "        if user_input.lower() == \"bye\":\n",
        "            farewell()\n",
        "            break\n",
        "        else:\n",
        "            print(f\"Chatbot: {basic_responses_with_memory_and_error_handling(user_input)}\")\n",
        "\n",
        "# Start the complete chatbot interaction\n",
        "start_complete_chat()\n"
      ],
      "metadata": {
        "colab": {
          "base_uri": "https://localhost:8080/",
          "height": 543
        },
        "collapsed": true,
        "id": "iNKTyohQVGZT",
        "outputId": "1e8aa6c1-41d8-4ed3-b36f-1482e301e97b"
      },
      "execution_count": 6,
      "outputs": [
        {
          "output_type": "stream",
          "name": "stdout",
          "text": [
            "Chatbot: Hello! I'm here to help. How can I assist you today?\n",
            "Chatbot: What's your name?\n",
            "You: Yashika\n",
            "Chatbot: How old are you?\n",
            "You: 19\n",
            "Chatbot: What is your favorite color?\n",
            "You: Maroon\n",
            "Chatbot: Nice to meet you, Yashika!\n",
            "Chatbot: Wow, 19 years old! That's awesome.\n",
            "Chatbot: Maroon is a beautiful color!\n",
            "You: how are you?\n",
            "Chatbot: I'm just a chatbot, but I'm here to help!\n"
          ]
        },
        {
          "output_type": "error",
          "ename": "KeyboardInterrupt",
          "evalue": "Interrupted by user",
          "traceback": [
            "\u001b[0;31m---------------------------------------------------------------------------\u001b[0m",
            "\u001b[0;31mKeyboardInterrupt\u001b[0m                         Traceback (most recent call last)",
            "\u001b[0;32m<ipython-input-6-e9b2f767e7e5>\u001b[0m in \u001b[0;36m<cell line: 69>\u001b[0;34m()\u001b[0m\n\u001b[1;32m     67\u001b[0m \u001b[0;34m\u001b[0m\u001b[0m\n\u001b[1;32m     68\u001b[0m \u001b[0;31m# Start the complete chatbot interaction\u001b[0m\u001b[0;34m\u001b[0m\u001b[0;34m\u001b[0m\u001b[0m\n\u001b[0;32m---> 69\u001b[0;31m \u001b[0mstart_complete_chat\u001b[0m\u001b[0;34m(\u001b[0m\u001b[0;34m)\u001b[0m\u001b[0;34m\u001b[0m\u001b[0;34m\u001b[0m\u001b[0m\n\u001b[0m",
            "\u001b[0;32m<ipython-input-6-e9b2f767e7e5>\u001b[0m in \u001b[0;36mstart_complete_chat\u001b[0;34m()\u001b[0m\n\u001b[1;32m     59\u001b[0m \u001b[0;34m\u001b[0m\u001b[0m\n\u001b[1;32m     60\u001b[0m     \u001b[0;32mwhile\u001b[0m \u001b[0;32mTrue\u001b[0m\u001b[0;34m:\u001b[0m\u001b[0;34m\u001b[0m\u001b[0;34m\u001b[0m\u001b[0m\n\u001b[0;32m---> 61\u001b[0;31m         \u001b[0muser_input\u001b[0m \u001b[0;34m=\u001b[0m \u001b[0minput\u001b[0m\u001b[0;34m(\u001b[0m\u001b[0;34m\"You: \"\u001b[0m\u001b[0;34m)\u001b[0m\u001b[0;34m\u001b[0m\u001b[0;34m\u001b[0m\u001b[0m\n\u001b[0m\u001b[1;32m     62\u001b[0m         \u001b[0;32mif\u001b[0m \u001b[0muser_input\u001b[0m\u001b[0;34m.\u001b[0m\u001b[0mlower\u001b[0m\u001b[0;34m(\u001b[0m\u001b[0;34m)\u001b[0m \u001b[0;34m==\u001b[0m \u001b[0;34m\"bye\"\u001b[0m\u001b[0;34m:\u001b[0m\u001b[0;34m\u001b[0m\u001b[0;34m\u001b[0m\u001b[0m\n\u001b[1;32m     63\u001b[0m             \u001b[0mfarewell\u001b[0m\u001b[0;34m(\u001b[0m\u001b[0;34m)\u001b[0m\u001b[0;34m\u001b[0m\u001b[0;34m\u001b[0m\u001b[0m\n",
            "\u001b[0;32m/usr/local/lib/python3.10/dist-packages/ipykernel/kernelbase.py\u001b[0m in \u001b[0;36mraw_input\u001b[0;34m(self, prompt)\u001b[0m\n\u001b[1;32m    849\u001b[0m                 \u001b[0;34m\"raw_input was called, but this frontend does not support input requests.\"\u001b[0m\u001b[0;34m\u001b[0m\u001b[0;34m\u001b[0m\u001b[0m\n\u001b[1;32m    850\u001b[0m             )\n\u001b[0;32m--> 851\u001b[0;31m         return self._input_request(str(prompt),\n\u001b[0m\u001b[1;32m    852\u001b[0m             \u001b[0mself\u001b[0m\u001b[0;34m.\u001b[0m\u001b[0m_parent_ident\u001b[0m\u001b[0;34m,\u001b[0m\u001b[0;34m\u001b[0m\u001b[0;34m\u001b[0m\u001b[0m\n\u001b[1;32m    853\u001b[0m             \u001b[0mself\u001b[0m\u001b[0;34m.\u001b[0m\u001b[0m_parent_header\u001b[0m\u001b[0;34m,\u001b[0m\u001b[0;34m\u001b[0m\u001b[0;34m\u001b[0m\u001b[0m\n",
            "\u001b[0;32m/usr/local/lib/python3.10/dist-packages/ipykernel/kernelbase.py\u001b[0m in \u001b[0;36m_input_request\u001b[0;34m(self, prompt, ident, parent, password)\u001b[0m\n\u001b[1;32m    893\u001b[0m             \u001b[0;32mexcept\u001b[0m \u001b[0mKeyboardInterrupt\u001b[0m\u001b[0;34m:\u001b[0m\u001b[0;34m\u001b[0m\u001b[0;34m\u001b[0m\u001b[0m\n\u001b[1;32m    894\u001b[0m                 \u001b[0;31m# re-raise KeyboardInterrupt, to truncate traceback\u001b[0m\u001b[0;34m\u001b[0m\u001b[0;34m\u001b[0m\u001b[0m\n\u001b[0;32m--> 895\u001b[0;31m                 \u001b[0;32mraise\u001b[0m \u001b[0mKeyboardInterrupt\u001b[0m\u001b[0;34m(\u001b[0m\u001b[0;34m\"Interrupted by user\"\u001b[0m\u001b[0;34m)\u001b[0m \u001b[0;32mfrom\u001b[0m \u001b[0;32mNone\u001b[0m\u001b[0;34m\u001b[0m\u001b[0;34m\u001b[0m\u001b[0m\n\u001b[0m\u001b[1;32m    896\u001b[0m             \u001b[0;32mexcept\u001b[0m \u001b[0mException\u001b[0m \u001b[0;32mas\u001b[0m \u001b[0me\u001b[0m\u001b[0;34m:\u001b[0m\u001b[0;34m\u001b[0m\u001b[0;34m\u001b[0m\u001b[0m\n\u001b[1;32m    897\u001b[0m                 \u001b[0mself\u001b[0m\u001b[0;34m.\u001b[0m\u001b[0mlog\u001b[0m\u001b[0;34m.\u001b[0m\u001b[0mwarning\u001b[0m\u001b[0;34m(\u001b[0m\u001b[0;34m\"Invalid Message:\"\u001b[0m\u001b[0;34m,\u001b[0m \u001b[0mexc_info\u001b[0m\u001b[0;34m=\u001b[0m\u001b[0;32mTrue\u001b[0m\u001b[0;34m)\u001b[0m\u001b[0;34m\u001b[0m\u001b[0;34m\u001b[0m\u001b[0m\n",
            "\u001b[0;31mKeyboardInterrupt\u001b[0m: Interrupted by user"
          ]
        }
      ]
    },
    {
      "cell_type": "code",
      "source": [],
      "metadata": {
        "id": "UllrLIHctPy9"
      },
      "execution_count": null,
      "outputs": []
    },
    {
      "cell_type": "code",
      "source": [],
      "metadata": {
        "id": "7AFNX2katQMl"
      },
      "execution_count": null,
      "outputs": []
    }
  ]
}